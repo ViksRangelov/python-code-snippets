{
 "cells": [
  {
   "cell_type": "code",
   "execution_count": null,
   "metadata": {},
   "outputs": [],
   "source": [
    "import pyodbc\n",
    "pyodbc.pooling = False"
   ]
  },
  {
   "cell_type": "code",
   "execution_count": null,
   "metadata": {},
   "outputs": [],
   "source": [
    "from sqlalchemy import create_engine\n",
    "from sqlalchemy.sql import text"
   ]
  },
  {
   "cell_type": "code",
   "execution_count": null,
   "metadata": {},
   "outputs": [],
   "source": [
    "engine = create_engine('mssql+pyodbc://odbc_dsn_name?driver=SQL Server?Trusted_Connection=yes')"
   ]
  },
  {
   "cell_type": "code",
   "execution_count": null,
   "metadata": {},
   "outputs": [],
   "source": [
    "try:\n",
    "    conn = engine.connect()\n",
    "except Exception as exc:\n",
    "    print(exc)"
   ]
  },
  {
   "cell_type": "code",
   "execution_count": null,
   "metadata": {},
   "outputs": [],
   "source": [
    "# select and display contents of table from the database using text method\n",
    "\n",
    "t = text('select top 5 * from table_name')\n",
    "result = engine.execute(t)\n",
    "for row in result:\n",
    "    print (row)\n",
    "result.close()"
   ]
  },
  {
   "cell_type": "code",
   "execution_count": null,
   "metadata": {},
   "outputs": [],
   "source": [
    "# text()function requires Bound parameters in the named colon format.\n",
    "\n",
    "s = text(\"select students.name, students.lastname from students where students.name between :x and :y\")\n",
    "conn.execute(s, x = 'A', y = 'L').fetchall()"
   ]
  },
  {
   "cell_type": "code",
   "execution_count": null,
   "metadata": {},
   "outputs": [],
   "source": [
    "# Update rows in a SQL table\n",
    "sql = '''\n",
    "    UPDATE table \n",
    "    SET col='abc'\n",
    "    WHERE condition;\n",
    "'''\n",
    "with engine.connect() as conn:\n",
    "    conn.execute(text(sql))"
   ]
  },
  {
   "cell_type": "code",
   "execution_count": null,
   "metadata": {},
   "outputs": [],
   "source": [
    "# Insert new rows in a SQL table\n",
    "sql = '''\n",
    "    INSERT INTO df\n",
    "    VALUES \n",
    "       (1, 'abc'),\n",
    "       (2, 'xyz'),\n",
    "       (1, 'abc');\n",
    "'''\n",
    "with engine.connect() as conn:\n",
    "    conn.execute(text(sql))"
   ]
  },
  {
   "cell_type": "code",
   "execution_count": null,
   "metadata": {},
   "outputs": [],
   "source": [
    "# Delete rows in a SQL table\n",
    "sql = '''\n",
    "    DELETE FROM df\n",
    "    WHERE condition;\n",
    "'''\n",
    "with engine.connect() as conn:\n",
    "    conn.execute(text(sql))"
   ]
  },
  {
   "cell_type": "code",
   "execution_count": null,
   "metadata": {},
   "outputs": [],
   "source": [
    "import pandas as pd"
   ]
  },
  {
   "cell_type": "code",
   "execution_count": null,
   "metadata": {},
   "outputs": [],
   "source": [
    "df = pd.read_csv('my_csv')\n",
    "# create a new table and append data frame values to this table\n",
    "db_table_name = 'Department_test'\n",
    "df.to_sql(df, name=db_table_name, con=conn, if_exists='append', index=False, chunksize=1000)"
   ]
  },
  {
   "cell_type": "code",
   "execution_count": null,
   "metadata": {},
   "outputs": [],
   "source": [
    "query_1 = '''select top 5 * from table'''"
   ]
  },
  {
   "cell_type": "code",
   "execution_count": null,
   "metadata": {},
   "outputs": [],
   "source": [
    "with engine.connect() as conn:\n",
    "    query = conn.execute(text(query_1))         \n",
    "df = pd.DataFrame(query.fetchall())"
   ]
  },
  {
   "cell_type": "code",
   "execution_count": null,
   "metadata": {},
   "outputs": [],
   "source": [
    "with engine.connect() as conn:\n",
    "    df = pd.read_sql(query_1, con = conn)"
   ]
  },
  {
   "cell_type": "code",
   "execution_count": null,
   "metadata": {},
   "outputs": [],
   "source": [
    "conn = engine.connect()\n",
    "sql_query_result = pd.read_sql_query(query_1, engine)\n",
    "# df_1 = pd.DataFrame(sql_query, columns = ['column1','column2'])\n",
    "df_1 = pd.DataFrame(sql_query_result)\n",
    "conn.close()"
   ]
  }
 ],
 "metadata": {
  "language_info": {
   "name": "python"
  },
  "orig_nbformat": 4
 },
 "nbformat": 4,
 "nbformat_minor": 2
}
